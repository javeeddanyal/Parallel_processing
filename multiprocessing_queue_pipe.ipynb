{
 "cells": [
  {
   "cell_type": "code",
   "execution_count": 1,
   "metadata": {},
   "outputs": [
    {
     "name": "stdout",
     "output_type": "stream",
     "text": [
      "4\n",
      "9\n",
      "25\n"
     ]
    }
   ],
   "source": [
    "import multiprocessing\n",
    "\n",
    "def calc_square(numbers, q):\n",
    "    for n in numbers:\n",
    "        q.put(n*n)\n",
    "\n",
    "if __name__ == \"__main__\":\n",
    "    numbers = [2,3,5]\n",
    "    q = multiprocessing.Queue()\n",
    "    p = multiprocessing.Process(target=calc_square, args=(numbers,q))\n",
    "\n",
    "    p.start()\n",
    "    p.join()\n",
    "\n",
    "    while q.empty() is False:\n",
    "        print(q.get())"
   ]
  }
 ],
 "metadata": {
  "kernelspec": {
   "display_name": "Python 3",
   "language": "python",
   "name": "python3"
  },
  "language_info": {
   "codemirror_mode": {
    "name": "ipython",
    "version": 3
   },
   "file_extension": ".py",
   "mimetype": "text/x-python",
   "name": "python",
   "nbconvert_exporter": "python",
   "pygments_lexer": "ipython3",
   "version": "3.6.4"
  }
 },
 "nbformat": 4,
 "nbformat_minor": 2
}
