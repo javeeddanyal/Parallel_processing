{
 "cells": [
  {
   "cell_type": "code",
   "execution_count": 1,
   "metadata": {},
   "outputs": [
    {
     "ename": "IndentationError",
     "evalue": "expected an indented block (<ipython-input-1-92f45c77e4e6>, line 16)",
     "output_type": "error",
     "traceback": [
      "\u001b[0;36m  File \u001b[0;32m\"<ipython-input-1-92f45c77e4e6>\"\u001b[0;36m, line \u001b[0;32m16\u001b[0m\n\u001b[0;31m    if \"__name__\"==\"__main__\":\u001b[0m\n\u001b[0m                              ^\u001b[0m\n\u001b[0;31mIndentationError\u001b[0m\u001b[0;31m:\u001b[0m expected an indented block\n"
     ]
    }
   ],
   "source": [
    "import time\n",
    "from random import randint\n",
    "import threading\n",
    "\n",
    "queue = []\n",
    "\n",
    "def produce():\n",
    "    for i in range(0,5):\n",
    "        time.sleep(1)\n",
    "        queue.append(randint(0,9))\n",
    "        \n",
    "def consume():\n",
    "    while True:\n",
    "        if len(queue) > 0:            \n",
    "\n",
    "if \"__name__\"==\"__main__\":\n",
    "    p = threading.Thread(target=produce)\n",
    "    c = threading.Thread(target=consume)"
   ]
  }
 ],
 "metadata": {
  "kernelspec": {
   "display_name": "Python 3",
   "language": "python",
   "name": "python3"
  },
  "language_info": {
   "codemirror_mode": {
    "name": "ipython",
    "version": 3
   },
   "file_extension": ".py",
   "mimetype": "text/x-python",
   "name": "python",
   "nbconvert_exporter": "python",
   "pygments_lexer": "ipython3",
   "version": "3.6.4"
  }
 },
 "nbformat": 4,
 "nbformat_minor": 2
}
